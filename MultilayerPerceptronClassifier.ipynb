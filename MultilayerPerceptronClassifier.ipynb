{
 "cells": [
  {
   "cell_type": "code",
   "execution_count": 1,
   "id": "e3804098",
   "metadata": {},
   "outputs": [],
   "source": [
    "from pyspark.sql import SparkSession\n",
    "from pyspark.ml.feature import VectorAssembler\n",
    "from pyspark.ml.classification import MultilayerPerceptronClassifier\n",
    "from pyspark.ml.feature import StandardScaler\n",
    "from pyspark.ml.evaluation import MulticlassClassificationEvaluator\n",
    "from pyspark.ml.feature import StringIndexer\n",
    "from pyspark.ml.feature import Imputer, MinMaxScaler\n",
    "from pyspark.sql.types import *\n",
    "from pyspark.sql.functions import *\n",
    "from pyspark.sql import *"
   ]
  },
  {
   "cell_type": "code",
   "execution_count": 2,
   "id": "30fa4fe3",
   "metadata": {},
   "outputs": [],
   "source": [
    "if __name__ == \"__main__\":\n",
    "    spark = SparkSession\\\n",
    "        .builder\\\n",
    "        .appName(\"DecisionTreeWithSpark\")\\\n",
    "        .getOrCreate()"
   ]
  },
  {
   "cell_type": "code",
   "execution_count": 29,
   "id": "b6d33395",
   "metadata": {},
   "outputs": [],
   "source": [
    "dataset = spark.read.csv(\"data_banknote_authentication.csv\",header=True)"
   ]
  },
  {
   "cell_type": "code",
   "execution_count": 30,
   "id": "8d7d0e49",
   "metadata": {},
   "outputs": [
    {
     "name": "stdout",
     "output_type": "stream",
     "text": [
      "+---------+---------+---------+---------+------+\n",
      "|feature_1|feature_2|feature_3|feature_4|Class |\n",
      "+---------+---------+---------+---------+------+\n",
      "|   3.6216|   8.6661|  -2.8073| -0.44699|     0|\n",
      "|   4.5459|   8.1674|  -2.4586|  -1.4621|     0|\n",
      "|    3.866|  -2.6383|   1.9242|  0.10645|     0|\n",
      "|   3.4566|   9.5228|  -4.0112|  -3.5944|     0|\n",
      "|  0.32924|  -4.4552|   4.5718|  -0.9888|     0|\n",
      "|       na|   9.6718|  -3.9606|  -3.1625|     0|\n",
      "|   3.5912|   3.0129|  0.72888|  0.56421|     0|\n",
      "|   2.0922|    -6.81|   8.4636| -0.60216|     0|\n",
      "|   3.2032|   5.7588| -0.75345| -0.61251|     0|\n",
      "|   1.5356|   9.1772|  -2.2718| -0.73535|     0|\n",
      "|   1.2247|   8.7779|  -2.2135| -0.80647|     0|\n",
      "|   3.9899|  -2.7066|   2.3946|  0.86291|     0|\n",
      "|   1.8993|   7.6625|  0.15394|  -3.1108|     0|\n",
      "|  -1.5768|   10.843|   2.5462|  -2.9362|     0|\n",
      "|    3.404|   8.7261|  -2.9915| -0.57242|     0|\n",
      "|   4.6765|  -3.3895|   3.4896|   1.4771|     0|\n",
      "|   2.6719|   3.0646|  0.37158|  0.58619|     0|\n",
      "|  0.80355|   2.8473|   4.3439|   0.6017|     0|\n",
      "|   1.4479|       na|   8.3428|  -2.1086|     0|\n",
      "|   5.2423|  11.0272|   -4.353|  -4.1013|     0|\n",
      "+---------+---------+---------+---------+------+\n",
      "only showing top 20 rows\n",
      "\n"
     ]
    }
   ],
   "source": [
    "dataset.show()"
   ]
  },
  {
   "cell_type": "code",
   "execution_count": 31,
   "id": "e3c8137f",
   "metadata": {},
   "outputs": [],
   "source": [
    "for col in dataset.columns:\n",
    "    dataset = dataset.withColumn(col,dataset[col].cast('double'))"
   ]
  },
  {
   "cell_type": "code",
   "execution_count": 32,
   "id": "26997498",
   "metadata": {},
   "outputs": [],
   "source": [
    "input_cols = dataset.columns[:-1]"
   ]
  },
  {
   "cell_type": "code",
   "execution_count": 33,
   "id": "9d064ee8",
   "metadata": {},
   "outputs": [],
   "source": [
    "imputed_col = ['f_{}'.format(i+1) for i in range(len(input_cols))]\n",
    "\n",
    "model = Imputer(strategy='mean',missingValue=None,inputCols=input_cols,outputCols=imputed_col).fit(dataset)\n",
    "impute_data = model.transform(dataset)"
   ]
  },
  {
   "cell_type": "code",
   "execution_count": 34,
   "id": "42360acc",
   "metadata": {},
   "outputs": [
    {
     "name": "stdout",
     "output_type": "stream",
     "text": [
      "+---------+---------+---------+---------+------+------------------+------------------+--------+--------+\n",
      "|feature_1|feature_2|feature_3|feature_4|Class |               f_1|               f_2|     f_3|     f_4|\n",
      "+---------+---------+---------+---------+------+------------------+------------------+--------+--------+\n",
      "|   3.6216|   8.6661|  -2.8073| -0.44699|   0.0|            3.6216|            8.6661| -2.8073|-0.44699|\n",
      "|   4.5459|   8.1674|  -2.4586|  -1.4621|   0.0|            4.5459|            8.1674| -2.4586| -1.4621|\n",
      "|    3.866|  -2.6383|   1.9242|  0.10645|   0.0|             3.866|           -2.6383|  1.9242| 0.10645|\n",
      "|   3.4566|   9.5228|  -4.0112|  -3.5944|   0.0|            3.4566|            9.5228| -4.0112| -3.5944|\n",
      "|  0.32924|  -4.4552|   4.5718|  -0.9888|   0.0|           0.32924|           -4.4552|  4.5718| -0.9888|\n",
      "|     null|   9.6718|  -3.9606|  -3.1625|   0.0|0.4308653338439095|            9.6718| -3.9606| -3.1625|\n",
      "|   3.5912|   3.0129|  0.72888|  0.56421|   0.0|            3.5912|            3.0129| 0.72888| 0.56421|\n",
      "|   2.0922|    -6.81|   8.4636| -0.60216|   0.0|            2.0922|             -6.81|  8.4636|-0.60216|\n",
      "|   3.2032|   5.7588| -0.75345| -0.61251|   0.0|            3.2032|            5.7588|-0.75345|-0.61251|\n",
      "|   1.5356|   9.1772|  -2.2718| -0.73535|   0.0|            1.5356|            9.1772| -2.2718|-0.73535|\n",
      "|   1.2247|   8.7779|  -2.2135| -0.80647|   0.0|            1.2247|            8.7779| -2.2135|-0.80647|\n",
      "|   3.9899|  -2.7066|   2.3946|  0.86291|   0.0|            3.9899|           -2.7066|  2.3946| 0.86291|\n",
      "|   1.8993|   7.6625|  0.15394|  -3.1108|   0.0|            1.8993|            7.6625| 0.15394| -3.1108|\n",
      "|  -1.5768|   10.843|   2.5462|  -2.9362|   0.0|           -1.5768|            10.843|  2.5462| -2.9362|\n",
      "|    3.404|   8.7261|  -2.9915| -0.57242|   0.0|             3.404|            8.7261| -2.9915|-0.57242|\n",
      "|   4.6765|  -3.3895|   3.4896|   1.4771|   0.0|            4.6765|           -3.3895|  3.4896|  1.4771|\n",
      "|   2.6719|   3.0646|  0.37158|  0.58619|   0.0|            2.6719|            3.0646| 0.37158| 0.58619|\n",
      "|  0.80355|   2.8473|   4.3439|   0.6017|   0.0|           0.80355|            2.8473|  4.3439|  0.6017|\n",
      "|   1.4479|     null|   8.3428|  -2.1086|   0.0|            1.4479|1.9273142826529555|  8.3428| -2.1086|\n",
      "|   5.2423|  11.0272|   -4.353|  -4.1013|   0.0|            5.2423|           11.0272|  -4.353| -4.1013|\n",
      "+---------+---------+---------+---------+------+------------------+------------------+--------+--------+\n",
      "only showing top 20 rows\n",
      "\n"
     ]
    }
   ],
   "source": [
    "impute_data.show()"
   ]
  },
  {
   "cell_type": "code",
   "execution_count": 35,
   "id": "6615f864",
   "metadata": {},
   "outputs": [],
   "source": [
    "assemble = VectorAssembler(inputCols=imputed_col, outputCol='assembled_features', handleInvalid='error')\n",
    "a_data = assemble.transform(impute_data)\n",
    "\n"
   ]
  },
  {
   "cell_type": "code",
   "execution_count": 36,
   "id": "a44f0a0e",
   "metadata": {},
   "outputs": [],
   "source": [
    "scaler = MinMaxScaler(min=0.0, max=1.0, inputCol='assembled_features', outputCol='features')\n",
    "s_data = scaler.fit(a_data).transform(a_data)"
   ]
  },
  {
   "cell_type": "code",
   "execution_count": 37,
   "id": "0b30491a",
   "metadata": {},
   "outputs": [
    {
     "data": {
      "text/plain": [
       "DataFrame[feature_1: double, feature_2: double, feature_3: double, feature_4: double, Class : double, f_1: double, f_2: double, f_3: double, f_4: double, assembled_features: vector, features: vector]"
      ]
     },
     "metadata": {},
     "output_type": "display_data"
    }
   ],
   "source": [
    "display(s_data)"
   ]
  },
  {
   "cell_type": "code",
   "execution_count": 38,
   "id": "14eaa8d1",
   "metadata": {},
   "outputs": [],
   "source": [
    "s_data = s_data.withColumnRenamed('Class','label')"
   ]
  },
  {
   "cell_type": "code",
   "execution_count": 76,
   "id": "d181a90e",
   "metadata": {},
   "outputs": [
    {
     "name": "stdout",
     "output_type": "stream",
     "text": [
      "+------+--------------------+\n",
      "|Class |            features|\n",
      "+------+--------------------+\n",
      "|   0.0|[0.76900388695382...|\n",
      "|   0.0|[0.83565901535310...|\n",
      "|   0.0|[0.78662859038429...|\n",
      "|   0.0|[0.75710504871312...|\n",
      "|   0.0|[0.53157807440740...|\n",
      "|   0.0|[0.53890670112598...|\n",
      "|   0.0|[0.76681161615068...|\n",
      "|   0.0|[0.65871247358818...|\n",
      "|   0.0|[0.73883131774224...|\n",
      "|   0.0|[0.61857372592288...|\n",
      "|   0.0|[0.59615343011055...|\n",
      "|   0.0|[0.79556353619049...|\n",
      "|   0.0|[0.64480164997223...|\n",
      "|   0.0|[0.39412557961765...|\n",
      "|   0.0|[0.75331184331032...|\n",
      "|   0.0|[0.84507712610605...|\n",
      "|   0.0|[0.70051705860718...|\n",
      "|   0.0|[0.56578254692829...|\n",
      "|   0.0|[0.61224931311251...|\n",
      "|   0.0|[0.88587932414598...|\n",
      "+------+--------------------+\n",
      "only showing top 20 rows\n",
      "\n"
     ]
    }
   ],
   "source": [
    "a = ['Class ','features']\n",
    "s_data.select(*a).show()"
   ]
  },
  {
   "cell_type": "code",
   "execution_count": 40,
   "id": "7db36756",
   "metadata": {},
   "outputs": [
    {
     "name": "stdout",
     "output_type": "stream",
     "text": [
      "+------+--------------------+\n",
      "|Class |            features|\n",
      "+------+--------------------+\n",
      "|   0.0|[0.76900388695382...|\n",
      "|   0.0|[0.83565901535310...|\n",
      "|   0.0|[0.78662859038429...|\n",
      "|   0.0|[0.75710504871312...|\n",
      "|   0.0|[0.53157807440740...|\n",
      "|   0.0|[0.53890670112598...|\n",
      "|   0.0|[0.76681161615068...|\n",
      "|   0.0|[0.65871247358818...|\n",
      "|   0.0|[0.73883131774224...|\n",
      "|   0.0|[0.61857372592288...|\n",
      "|   0.0|[0.59615343011055...|\n",
      "|   0.0|[0.79556353619049...|\n",
      "|   0.0|[0.64480164997223...|\n",
      "|   0.0|[0.39412557961765...|\n",
      "|   0.0|[0.75331184331032...|\n",
      "|   0.0|[0.84507712610605...|\n",
      "|   0.0|[0.70051705860718...|\n",
      "|   0.0|[0.56578254692829...|\n",
      "|   0.0|[0.61224931311251...|\n",
      "|   0.0|[0.88587932414598...|\n",
      "+------+--------------------+\n",
      "only showing top 20 rows\n",
      "\n"
     ]
    }
   ],
   "source": [
    "col = ['Class ','features']\n",
    "s_data.select(*col).show()"
   ]
  },
  {
   "cell_type": "code",
   "execution_count": 41,
   "id": "87a49f2c",
   "metadata": {},
   "outputs": [],
   "source": [
    "train_df,test_df = s_data.select('Class ','features').randomSplit([0.7,0.3],1213)"
   ]
  },
  {
   "cell_type": "code",
   "execution_count": 64,
   "id": "da70f745",
   "metadata": {},
   "outputs": [
    {
     "name": "stdout",
     "output_type": "stream",
     "text": [
      "+------+--------------------+\n",
      "|Class |            features|\n",
      "+------+--------------------+\n",
      "|   0.0|[0.19876107853954...|\n",
      "|   0.0|[0.31320626816375...|\n",
      "|   0.0|[0.32870360354513...|\n",
      "|   0.0|[0.33488378801318...|\n",
      "|   0.0|[0.36600826428401...|\n",
      "|   0.0|[0.37781335410221...|\n",
      "|   0.0|[0.38120993156365...|\n",
      "|   0.0|[0.38276038624350...|\n",
      "|   0.0|[0.38558726175280...|\n",
      "|   0.0|[0.39912309167874...|\n",
      "|   0.0|[0.39926732002105...|\n",
      "|   0.0|[0.41408678219356...|\n",
      "|   0.0|[0.41408678219356...|\n",
      "|   0.0|[0.42568995233253...|\n",
      "|   0.0|[0.42625244286754...|\n",
      "|   0.0|[0.42711781292141...|\n",
      "|   0.0|[0.44169352919542...|\n",
      "|   0.0|[0.45695144552856...|\n",
      "|   0.0|[0.47533911688986...|\n",
      "|   0.0|[0.47912222630869...|\n",
      "+------+--------------------+\n",
      "only showing top 20 rows\n",
      "\n"
     ]
    }
   ],
   "source": [
    "test_df.show()"
   ]
  },
  {
   "cell_type": "code",
   "execution_count": 77,
   "id": "52632736",
   "metadata": {},
   "outputs": [],
   "source": [
    "mlpc=MultilayerPerceptronClassifier( featuresCol='features',labelCol='Class ',layers = [4,16,2],\\\n",
    "                                    maxIter=1000,blockSize=8,seed=7,solver='gd')"
   ]
  },
  {
   "cell_type": "code",
   "execution_count": 78,
   "id": "072d6879",
   "metadata": {},
   "outputs": [],
   "source": [
    "ann = mlpc.fit(train_df)"
   ]
  },
  {
   "cell_type": "code",
   "execution_count": 79,
   "id": "4a001664",
   "metadata": {},
   "outputs": [
    {
     "data": {
      "text/plain": [
       "0.8309986610958963"
      ]
     },
     "execution_count": 79,
     "metadata": {},
     "output_type": "execute_result"
    }
   ],
   "source": [
    "pred = ann.transform(test_df)\n",
    "evaluator = MulticlassClassificationEvaluator(labelCol='Class ',predictionCol='prediction',metricName='f1')\n",
    "ann_f1 = evaluator.evaluate(pred)\n",
    "ann_f1"
   ]
  },
  {
   "cell_type": "code",
   "execution_count": 27,
   "id": "75e5674d",
   "metadata": {},
   "outputs": [
    {
     "data": {
      "text/plain": [
       "DataFrame[Class : double, features: vector, rawPrediction: vector, probability: vector, prediction: double]"
      ]
     },
     "execution_count": 27,
     "metadata": {},
     "output_type": "execute_result"
    }
   ],
   "source": [
    "pred"
   ]
  },
  {
   "cell_type": "code",
   "execution_count": null,
   "id": "5f7f43d5",
   "metadata": {},
   "outputs": [],
   "source": [
    "#spark.stop()"
   ]
  },
  {
   "cell_type": "code",
   "execution_count": null,
   "id": "55fa1e97",
   "metadata": {},
   "outputs": [],
   "source": [
    "mlpc=MultilayerPerceptronClassifier( featuresCol='features',labelCol='Class ',layers = [4,32,16,2],maxIter=1500,blockSize=32,seed=7,solver='gd')\n",
    "#0.8091126046069683\n",
    "mlpc=MultilayerPerceptronClassifier( featuresCol='features',labelCol='Class ',layers = [4,16,2],\\\n",
    "                                    maxIter=500,blockSize=8,seed=7,solver='gd')\n",
    "#0.7580237391432338\n",
    "\n",
    "\n",
    "0.8914342379676308  2500\n",
    "\n"
   ]
  }
 ],
 "metadata": {
  "kernelspec": {
   "display_name": "Python 3",
   "language": "python",
   "name": "python3"
  },
  "language_info": {
   "codemirror_mode": {
    "name": "ipython",
    "version": 3
   },
   "file_extension": ".py",
   "mimetype": "text/x-python",
   "name": "python",
   "nbconvert_exporter": "python",
   "pygments_lexer": "ipython3",
   "version": "3.9.5"
  }
 },
 "nbformat": 4,
 "nbformat_minor": 5
}
